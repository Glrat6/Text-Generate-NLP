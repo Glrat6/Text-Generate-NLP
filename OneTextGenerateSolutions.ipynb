{
  "nbformat": 4,
  "nbformat_minor": 0,
  "metadata": {
    "colab": {
      "name": "OneTextGenerateSolutions.ipynb",
      "provenance": [],
      "collapsed_sections": [],
      "include_colab_link": true
    },
    "kernelspec": {
      "name": "python3",
      "display_name": "Python 3"
    }
  },
  "cells": [
    {
      "cell_type": "markdown",
      "metadata": {
        "id": "view-in-github",
        "colab_type": "text"
      },
      "source": [
        "<a href=\"https://colab.research.google.com/github/Glrat6/Text-Generate-NLP/blob/master/OneTextGenerateSolutions.ipynb\" target=\"_parent\"><img src=\"https://colab.research.google.com/assets/colab-badge.svg\" alt=\"Open In Colab\"/></a>"
      ]
    },
    {
      "cell_type": "code",
      "metadata": {
        "id": "dvxbyX62p5R3",
        "colab_type": "code",
        "colab": {
          "base_uri": "https://localhost:8080/",
          "height": 230
        },
        "outputId": "bb813330-05ea-4390-b75d-dba1b1dc3e23"
      },
      "source": [
        "from tensorflow.python.client import device_lib\n",
        "device_lib.list_local_devices()"
      ],
      "execution_count": 1,
      "outputs": [
        {
          "output_type": "execute_result",
          "data": {
            "text/plain": [
              "[name: \"/device:CPU:0\"\n",
              " device_type: \"CPU\"\n",
              " memory_limit: 268435456\n",
              " locality {\n",
              " }\n",
              " incarnation: 2739885636021992669, name: \"/device:XLA_CPU:0\"\n",
              " device_type: \"XLA_CPU\"\n",
              " memory_limit: 17179869184\n",
              " locality {\n",
              " }\n",
              " incarnation: 13847323577306906838\n",
              " physical_device_desc: \"device: XLA_CPU device\"]"
            ]
          },
          "metadata": {
            "tags": []
          },
          "execution_count": 1
        }
      ]
    },
    {
      "cell_type": "code",
      "metadata": {
        "id": "5LHbGoT4HLRQ",
        "colab_type": "code",
        "outputId": "8def01e5-6b2e-4458-e92f-bd0a5b39ae16",
        "colab": {
          "base_uri": "https://localhost:8080/",
          "height": 125
        }
      },
      "source": [
        "from google.colab import drive\n",
        "drive.mount('/content/drive')"
      ],
      "execution_count": 2,
      "outputs": [
        {
          "output_type": "stream",
          "text": [
            "Go to this URL in a browser: https://accounts.google.com/o/oauth2/auth?client_id=947318989803-6bn6qk8qdgf4n4g3pfee6491hc0brc4i.apps.googleusercontent.com&redirect_uri=urn%3aietf%3awg%3aoauth%3a2.0%3aoob&response_type=code&scope=email%20https%3a%2f%2fwww.googleapis.com%2fauth%2fdocs.test%20https%3a%2f%2fwww.googleapis.com%2fauth%2fdrive%20https%3a%2f%2fwww.googleapis.com%2fauth%2fdrive.photos.readonly%20https%3a%2f%2fwww.googleapis.com%2fauth%2fpeopleapi.readonly\n",
            "\n",
            "Enter your authorization code:\n",
            "··········\n",
            "Mounted at /content/drive\n"
          ],
          "name": "stdout"
        }
      ]
    },
    {
      "cell_type": "code",
      "metadata": {
        "id": "xjz3Zh4CIc_w",
        "colab_type": "code",
        "outputId": "d21a334d-4b48-484e-dcc0-9b28d31ec9b9",
        "colab": {
          "base_uri": "https://localhost:8080/",
          "height": 51
        }
      },
      "source": [
        "file = open(\"/content/drive/My Drive/TestNLP/TestCase.csv\",'rU').read()"
      ],
      "execution_count": 0,
      "outputs": [
        {
          "output_type": "stream",
          "text": [
            "/usr/local/lib/python3.6/dist-packages/ipykernel_launcher.py:1: DeprecationWarning: 'U' mode is deprecated\n",
            "  \"\"\"Entry point for launching an IPython kernel.\n"
          ],
          "name": "stderr"
        }
      ]
    },
    {
      "cell_type": "code",
      "metadata": {
        "id": "VKABe2ciJPH1",
        "colab_type": "code",
        "colab": {}
      },
      "source": [
        "import numpy\n",
        "import sys\n",
        "from nltk.tokenize import RegexpTokenizer\n",
        "from nltk.corpus import stopwords\n",
        "from keras.models import Sequential\n",
        "from keras.layers import Dense, Dropout, LSTM\n",
        "from keras.utils import np_utils\n",
        "from keras.callbacks import ModelCheckpoint"
      ],
      "execution_count": 0,
      "outputs": []
    },
    {
      "cell_type": "code",
      "metadata": {
        "id": "bE0SIfkaJWvL",
        "colab_type": "code",
        "outputId": "d94ce632-0a2b-468e-b4de-1fbfcbe5987e",
        "colab": {
          "base_uri": "https://localhost:8080/",
          "height": 68
        }
      },
      "source": [
        "import nltk\n",
        "nltk.download(\"stopwords\")"
      ],
      "execution_count": 0,
      "outputs": [
        {
          "output_type": "stream",
          "text": [
            "[nltk_data] Downloading package stopwords to /root/nltk_data...\n",
            "[nltk_data]   Package stopwords is already up-to-date!\n"
          ],
          "name": "stdout"
        },
        {
          "output_type": "execute_result",
          "data": {
            "text/plain": [
              "True"
            ]
          },
          "metadata": {
            "tags": []
          },
          "execution_count": 26
        }
      ]
    },
    {
      "cell_type": "code",
      "metadata": {
        "id": "-9XqB7fNJE9m",
        "colab_type": "code",
        "colab": {}
      },
      "source": [
        "def tokenize_words(input):\n",
        "\n",
        "    input = input.lower()\n",
        "\n",
        "    tokenizer = RegexpTokenizer(r'\\w+')\n",
        "    tokens = tokenizer.tokenize(input)\n",
        "\n",
        "    filtered = filter(lambda token: token not in stopwords.words('english'), tokens)\n",
        "    return \" \".join(filtered)"
      ],
      "execution_count": 0,
      "outputs": []
    },
    {
      "cell_type": "code",
      "metadata": {
        "id": "lL_r1f1MJJ-V",
        "colab_type": "code",
        "outputId": "3623ce1f-7e8d-4f7a-a6be-c2cb2bd735c3",
        "colab": {
          "base_uri": "https://localhost:8080/",
          "height": 54
        }
      },
      "source": [
        "processed_inputs = tokenize_words(file)\n",
        "print(processed_inputs)"
      ],
      "execution_count": 0,
      "outputs": [
        {
          "output_type": "stream",
          "text": [
            "login application successfully login application wrong password login application wrong username verify login screen ui displayed properly send logs file verify menu screen ok verify call ended successfully verify bootstrap page displayed properly verify scroll menu works properly hamburger menu verify smartoffice logo displayed properly verify user send receive ims properly answer make audio video call remote party answer call decline make audio video call remote party declines call make basic call start stop video side sequentially make video call switch camera back front front back verify list messages calls history conversation list inthreads make basic call hold unhold moh make video call hold unhold moh make call using dial pad make call using favourites make call using history make call using global contact make call using personal profile verify user reach voicemail driectly remote part declines call receive chat message app background receive chat message app killed receive audio call app background firstly leave missed call secondly answer call make sure audio ok receive audio call app killed firstly leave missed call secondly answer call make sure audio ok receive video call app background firstly leave missed call secondly answer call make sure audio ok receive video call app killed firstly leave missed call secondly answer call make sure audio ok receive chat message app foreground screen locked receive chat message app background screen locked receive chat message app killed screen locked receive audio call app foreground screen locked firstly leave missed call secondly answer call make sure audio ok receive audio call app background screen locked firstly leave missed call secondly answer call make sure audio ok receive audio call app killed screen locked firstly leave missed call secondly answer call make sure audio ok receive video call app foreground screen locked firstly leave missed call secondly answer call make sure audio ok receive video call app background screen locked firstly leave missed call secondly answer call make sure audio ok receive video call app killed screen locked firstly leave missed call secondly answer call make sure audio ok voicemail service works successfully meetme service works successfully callgrab service works successfully verify user able transfer audio call properly audio stream ok blind transfer verify user able merge audio call properly audio stream ok verify correct link opened clicking forgot password button verify presence shown properly orig term side verify connectivity lost error displayed properly verify contacts tab working fine sub tabs verify wifi turned smartoffice crashed verify user login wifi connectivity lost reconnected verify video call started front camera verify active call screen displayed properly verify dialpad icon add contact icon shown properly verify call timer started zero verify wifi client login screen scroll performed login button shown properly smart office app crash incoming call im received verify sensor worked active call verify menu screen ok verify bootstrap page displayed properly verify dual hold work properly moh services verify favorites section displayed properly verify scroll menu works properly hamburger menu verify cloudtalk logo displayed properly make audio call contact check call options internet connection wifi make audio call contact check call options blocked wifi make video call contact check call options internet connection wifi make video call contact check call options blocked wifi answer make audio video call remote party answer call make video call stop start video side sequentially make video call switch camera back front front back verify list messages calls history conversation list inthreads make video call hold unhold moh make call using dial pad make call using history verify proximity sensor working properly make call using copy paste userid receive chat message app background receive chat message app killed receive video call app background firstly leave missed call secondly answer call make sure audio ok receive video call app killed firstly leave missed call secondly answer call make sure audio ok receive chat message app foreground screen locked receive chat message app background screen locked receive chat message app killed screen locked receive video call app foreground screen locked firstly leave missed call secondly answer call make sure audio ok receive video call app background screen locked firstly leave missed call secondly answer call make sure audio ok receive video call app killed screen locked firstly leave missed call secondly answer call make sure audio ok connectivity lost video call verify correct link opened clicking forgot password button verify presence shown properly orig term side verify without internet connection errors login screen showed properly verify wifi turned cloudtalk crashed logged verify video call started front camera verify active call screen displayed properly verify incoming call notification display properly verify call timer started zero verify user id fit incoming call notification ui desktop clients verify unregistered numbers called call history callee number display verify video quality good originator terminator side verify proximity sensor worked active call verify application used without network verify user returns bootstrap screen logout client started user login network connection verify application opened directly logging bootstrap screen verify user returns bootstrap screen logout verify user logout expire time background verify user logout expire time app killed verify user logout expire time foreground verify client logs user smb account deleted token revoke client started user login invalid smb userid client started user login invalid smb password client started user login smb password changed client started user login network connection verify user logout expire time foreground verify user log expire time sleepmode verify client log user smb account deleted token revoke client started user login invalid smb userid client started user login invalid smb password client started user login smb password changed client started user login network connection logout try logout application login application successfully login application wrong password login application wrong username verify login screen ui displayed properly send logs file verify menu screen ok verify call ended successfully verify bootstrap page displayed properly verify im notification sound heard successfully verify scroll menu works properly hamburger menu verify smartoffice logo displayed properly verify user send receive ims properly make audio call contact check call options internet connection wifi make audio call contact check call options ask every call wifi make audio call contact check call options blocked wifi make video call contact check call options internet connection wifi make video call contact check call options ask every call wifi make video call contact check call options blocked wifi answer make audio video call remote party answer call decline make audio video call remote party declines call make basic call start stop video side sequentially make video call switch camera back front front back verify list messages calls history conversation list inthreads make basic call hold unhold moh make video call hold unhold moh make call using dial pad make call using favourites make call using history make call using global contact make call using personal profile make call using copy paste userid receive chat message app background receive chat message app killed receive audio call app background firstly leave missed call secondly answer call make sure audio ok receive audio call app killed firstly leave missed call secondly answer call make sure audio ok receive video call app background firstly leave missed call secondly answer call make sure audio ok receive video call app killed firstly leave missed call secondly answer call make sure audio ok receive chat message app foreground screen locked receive chat message app background screen locked receive chat message app killed screen locked receive audio call app foreground screen locked firstly leave missed call secondly answer call make sure audio ok receive audio call app background screen locked firstly leave missed call secondly answer call make sure audio ok receive audio call app killed screen locked firstly leave missed call secondly answer call make sure audio ok receive video call app foreground screen locked firstly leave missed call secondly answer call make sure audio ok receive video call app background screen locked firstly leave missed call secondly answer call make sure audio ok receive video call app killed screen locked firstly leave missed call secondly answer call make sure audio ok verify audio call switch network wifi wifi wifi wifi back verify audio call switch network wifi lte lte wifi back connectivity lost video call voicemail service works successfully meetme service works successfully callgrab service works successfully verify user able transfer audio call properly audio stream ok blind transfer verify user able merge audio call properly audio stream ok verify correct link opened clicking forgot password button verify presence shown properly orig term side verify connectivity lost error displayed properly verify contacts tab working fine sub tabs verify wifi turned smartoffice crashed verify user login wifi connectivity lost reconnected verify video call started front camera verify active call screen displayed properly verify dialpad icon add contact icon shown properly verify call timer started zero verify wifi client login screen scroll performed login button shown properly verify login successful screen lock type choosen none one time verify unregistered numbers called call history callee number display verify user see closed call screen rejected call verify video quality good originator terminator side verify contacts menu displayed properly smart office app crash incoming call im received verify sensor worked active call verify app installed device lock type verify user returns client login screen logout verify audio call switching device earpiece bluetooth device bluetooth device earpiece back verify audio call switching device earpiece headphone headphone earpiece back verify video call switching device earpiece bluetooth device bluetooth device earpiece back verify video call switching device earpiece headphone headphone earpiece back callgrab service works successfully decline make audio call remote party declines call answer make audio call remote party answer call make audio call contact check call options blocked wifi make audio call contact check call options internet connection wifi make audio call start stop video side sequentially make audio call hold unhold user moh assign make call using copy paste userid make call using dial pad make call using favourites make call using global contact make call using personal profile meetme service works successfully pstn call pstn bound call user retrieve voicemail via email attachment verify long audio call drop around 20 mins verify call drops properly merge target c declines answers call verify call drops properly transfer target c declines answers call verify user transfer pstn incoming call properly verify user able merge audio call properly audio stream ok verify list messages calls history conversation list inthreads voicemail service works successfully verify contacts menu icons titles allign verify conversations menu icons titles allign verify dialer menu icons titles allign verify login main menu icons titles allign verify settings menu icons titles allign copy collaboration room details clicking clipboard join via invite link click invitation link mail opens collaboration support guest start colabration opens collaboration support guest add new contact device global tab add contact favourites contact detail remove contact favourites list remove contact personal tab check incoming calls user check incoming messages user check outgoing calls user check missed calls history section login application successfully login application wrong password login application wrong username logout try logout application send logs file change user status open link privacy policy successfully userid appears correctly receive audio call app foreground firstly leave missed call secondly answer call make sure audio ok receive video call app foreground firstly leave missed call secondly answer call make sure audio ok active call seen successfully hold call seen successfully text fields change language change vibration settings changed call mode decline make video call remote party declines call answer make video call remote party answer call make video call stop start video side sequentially make video call contact check call options blocked wifi make video call contact check call options internet connection wifi make video call hold unhold user moh assign verify long video call drop around 20 mins verify user able transfer video call properly audio video stream ok blind transfer container upgrade client upgrade logout try logout application login application successfully login application wrong password login application wrong username send logs file userid appears correctly version platform loads correctly sends logs email successfully open link privacy policy successfully check incoming calls user check incoming messages user check outgoing calls user check incoming messages user verify user information change user status add new contact device personal tab add new contact device global tab add new contact device mobile tab add contact favourites contact detail remove contact personal tab remove contact favourites list active call seen successfully hold call seen successfully active im seen successfully new im seen successfully send collaboration link contact send message contact make audio call contact check call options internet connection wifi make audio call contact check call options cellular call wifi make audio call contact check call options call back wifi make audio call contact check call options blocked wifi make audio call contact check call options internet connection cellular data make audio call contact check call options cellular call cellular data make audio call contact check call options call back cellular data make audio call contact check call options blocked cellular data make video call contact check call options internet connection wifi make video call contact check call options cellular call wifi make video call contact check call options call back wifi make video call contact check call options blocked wifi make video call contact check call options internet connection cellular data make video call contact check call options cellular call cellular data make video call contact check call options call back cellular data make video call contact check call options call back wifi answer make audio video call remote party answer call decline make audio video call remote party declines call make basic call start stop video side sequentially make video call stop start video side sequentially verify list messages calls history conversation list inthreads make call using dial pad make call using favourites make call using history make call using global contact make call using personal profile make call using copy paste userid pstn call pstn bound call user start colabration opens collaboration support guest join via invite link click invitation link mail opens collaboration support guest copy collaboration room details clicking clipboard receive chat message app foreground receive chat message app background receive chat message app killed receive audio call app foreground firstly leave missed call secondly answer call make sure audio ok receive audio call app background firstly leave missed call secondly answer call make sure audio ok receive audio call app killed firstly leave missed call secondly answer call make sure audio ok receive video call app foreground firstly leave missed call secondly answer call make sure audio ok receive video call app background firstly leave missed call secondly answer call make sure audio ok receive video call app killed firstly leave missed call secondly answer call make sure audio ok receive chat message app foreground screen locked receive chat message app background screen locked receive chat message app killed screen locked receive audio call app foreground screen locked firstly leave missed call secondly answer call make sure audio ok receive audio call app background screen locked firstly leave missed call secondly answer call make sure audio ok receive audio call app killed screen locked firstly leave missed call secondly answer call make sure audio ok receive video call app foreground screen locked firstly leave missed call secondly answer call make sure audio ok receive video call app background screen locked firstly leave missed call secondly answer call make sure audio ok receive video call app killed screen locked firstly leave missed call secondly answer call make sure audio ok verify audio call switch network wifi1 wifi2 wifi2 wifi1 back verify video call switch network wifi1 wifi2 wifi2 wifi1 back verify audio call turn wifi network verify video call turn wifi network verify audio call switch network wifi lte lte wifi back verify video call switch network wifi lte lte wifi back connectivity lost audio call connectivity lost video call verify long audio call drop around 20 mins verify long video call drop around 20 mins retrieve voicemail via email attachment voicemail service works successfully meetme service works successfully callgrab service works successfully verify user able transfer audio call properly audio stream ok blind transfer verify user able transfer video call properly audio video stream ok blind transfer verify call drops properly transfer target c declines answers call verify user transfer pstn incoming call properly verify user able merge audio call properly audio stream ok verify call drops properly transfer target c declines answers call verify user merge pstn incoming call properly contacts settings sorted selected order favorites settings sorted selected order calling mode settings call selected way wifi calling mode settings call selected way cellular data favorite list meetme service removed added favorite list voicemail service removed added favorite list callgrab service removed added vibration settings changed call mode vibration settings changed im mode mobile number changed text fields change language change verify audio call switching device earpiece bluetooth device bluetooth device earpiece back verify audio call switching device earpiece headphone headphone earpiece back verify video call switching device earpiece bluetooth device bluetooth device earpiece back verify video call switching device earpiece headphone headphone earpiece back verify upgrade admin gui shows kandy link logos texts parameter product_name kandylink system config file verify upgrade mgmt gui shows kandy link logos texts parameter product_name kandylink system config file verify upgrade admin gui shows spidr logos texts parameter product_name spidr system config file verify upgrade mgmt gui shows spidr logos texts parameter product_name spidr system config file basic audio call check spidr kandylink half upgrade multi server system__adm_at_new_version_app_at_old_version basic alarm check spidr kandylink upgrade basic call check multitier tier system spidr kandylink upgrade basic subscriber provisioning editing deleting check spidr kandylink upgrade basic subscription_on_spidr kandylink_halfupgraded_system_adm_at_new_version_app_at_old_version basic video call check spidr kandylink half upgrade multi server system__adm_app_broker_at_new_version_turn_at_old_version basic video call check spidr kandylink half upgrade multi server system__adm_app_at_new_version_broker_at_old_version basic video call check spidr kandylink half upgrade multi server system__adm_at_new_version_app_at_old_version check basic maintenance commands working properly across tiers runon puton getfrom etc multiserver system spidr kandylink upgrade check ext provider provisioning editing deleting upgrade spidr kandylink check default interop profile proxy mode enabled upgrade spidr kandylink disabled db health sync integrity check spidr kandylink upgrade follow verify spidr upgrade using customer facing document spidr kandylink upgrade spidr kandylink rollback upgrade subscription refresh token authentication spidr kandylink upgrade basic audio video call check multitier tier system spidr rollback follow verify spidr rollback using customer facing document spidr kandylink rollback check mpcp management service parameter support dtls sdes fallback upgrade spidr kandylink enabled basic alarm check spidr rollback check ext provider subscriber provisioning editing deleting rollback spidr kandylink verify event subscription service assigned users spidr upgraded 4 x patch_x verify db scripts executed spidr upgraded 4 x patch_x verify 1 1 nat configured spidr upgrade allow media relay turn media broker private network enables automatically upgrade 4 4 patchx spidr kandy link 4 5 later perform upgrade operation verify broker starting user mode configration mediabrokerusermodeenabled 4 x patch spidr kandy link verify generate config script copied opt wae sbin directory spidr upgraded 4 5 later verify meetme calls spidr upgrade verify broker 6 reachable alarm raised node_not_alive system name broker_6 verify turn_8 reachable alarm raised node_not_alive system name turn_8 basic audio video call check spidr system half upgraded basic audio video call check spidr system rolledback check management gui alarms spidr half upgraded check management gui alarms spidr rolledback basic audio video call check spidr half pgraded add external providers rollback system rolledback check external providers check kernel versions upgrading lab rollback lab check upgrade sciript messages half upgrade check external provider addition\n"
          ],
          "name": "stdout"
        }
      ]
    },
    {
      "cell_type": "code",
      "metadata": {
        "id": "3GwZnwdIJfN9",
        "colab_type": "code",
        "colab": {}
      },
      "source": [
        "chars = sorted(list(set(processed_inputs)))\n",
        "char_to_num = dict((c, i) for i, c in enumerate(chars))"
      ],
      "execution_count": 0,
      "outputs": []
    },
    {
      "cell_type": "code",
      "metadata": {
        "id": "uRts0UmwJiLe",
        "colab_type": "code",
        "outputId": "95eea97e-0922-4edc-ca85-c611ba282604",
        "colab": {
          "base_uri": "https://localhost:8080/",
          "height": 51
        }
      },
      "source": [
        "input_len = len(processed_inputs)\n",
        "vocab_len = len(chars)\n",
        "print (\"Total number of characters:\", input_len)\n",
        "print (\"Total vocab:\", vocab_len)"
      ],
      "execution_count": 0,
      "outputs": [
        {
          "output_type": "stream",
          "text": [
            "Total number of characters: 22240\n",
            "Total vocab: 35\n"
          ],
          "name": "stdout"
        }
      ]
    },
    {
      "cell_type": "code",
      "metadata": {
        "id": "RJPnL4BRJmI8",
        "colab_type": "code",
        "colab": {}
      },
      "source": [
        "seq_length = 100\n",
        "x_data = []\n",
        "y_data = []"
      ],
      "execution_count": 0,
      "outputs": []
    },
    {
      "cell_type": "code",
      "metadata": {
        "id": "IzBJZTUNJoke",
        "colab_type": "code",
        "colab": {}
      },
      "source": [
        "for i in range(0, input_len - seq_length, 1):\n",
        "\n",
        "    in_seq = processed_inputs[i:i + seq_length]\n",
        "\n",
        "    out_seq = processed_inputs[i + seq_length]\n",
        "\n",
        "    x_data.append([char_to_num[char] for char in in_seq])\n",
        "    y_data.append(char_to_num[out_seq])"
      ],
      "execution_count": 0,
      "outputs": []
    },
    {
      "cell_type": "code",
      "metadata": {
        "id": "pbbWJOCEJqel",
        "colab_type": "code",
        "outputId": "3af9591d-1abc-49cf-ac94-da673eaa4f37",
        "colab": {
          "base_uri": "https://localhost:8080/",
          "height": 34
        }
      },
      "source": [
        "n_patterns = len(x_data)\n",
        "print (\"Total Patterns:\", n_patterns)"
      ],
      "execution_count": 0,
      "outputs": [
        {
          "output_type": "stream",
          "text": [
            "Total Patterns: 22140\n"
          ],
          "name": "stdout"
        }
      ]
    },
    {
      "cell_type": "code",
      "metadata": {
        "id": "YUR8YcyeJsu2",
        "colab_type": "code",
        "colab": {}
      },
      "source": [
        "X = numpy.reshape(x_data, (n_patterns, seq_length, 1))\n",
        "X = X/float(vocab_len)"
      ],
      "execution_count": 0,
      "outputs": []
    },
    {
      "cell_type": "code",
      "metadata": {
        "id": "8EKZZsm1JuvQ",
        "colab_type": "code",
        "colab": {}
      },
      "source": [
        "y = np_utils.to_categorical(y_data)"
      ],
      "execution_count": 0,
      "outputs": []
    },
    {
      "cell_type": "code",
      "metadata": {
        "id": "BURCWDJEJxUe",
        "colab_type": "code",
        "colab": {}
      },
      "source": [
        "model = Sequential()\n",
        "model.add(LSTM(256, input_shape=(X.shape[1], X.shape[2]), return_sequences=True))\n",
        "model.add(Dropout(0.2))\n",
        "model.add(LSTM(256, return_sequences=True))\n",
        "model.add(Dropout(0.2))\n",
        "model.add(LSTM(128))\n",
        "model.add(Dropout(0.2))\n",
        "model.add(Dense(y.shape[1], activation='softmax'))"
      ],
      "execution_count": 0,
      "outputs": []
    },
    {
      "cell_type": "code",
      "metadata": {
        "id": "F5PZXy7vJ1hn",
        "colab_type": "code",
        "colab": {}
      },
      "source": [
        "model.compile(loss='categorical_crossentropy', optimizer='adam')"
      ],
      "execution_count": 0,
      "outputs": []
    },
    {
      "cell_type": "code",
      "metadata": {
        "id": "c5ze7mHhJ4aP",
        "colab_type": "code",
        "colab": {}
      },
      "source": [
        "filepath = \"model_weights_saved.hdf5\"\n",
        "checkpoint = ModelCheckpoint(filepath, monitor='loss', verbose=1, save_best_only=True, mode='min')\n",
        "desired_callbacks = [checkpoint]"
      ],
      "execution_count": 0,
      "outputs": []
    },
    {
      "cell_type": "code",
      "metadata": {
        "id": "JOsnEMDrJ6R2",
        "colab_type": "code",
        "outputId": "f7f8c91d-09e6-456f-c184-19ad15ab1574",
        "colab": {
          "base_uri": "https://localhost:8080/",
          "height": 717
        }
      },
      "source": [
        "model.fit(X, y, epochs=4, batch_size=256, callbacks=desired_callbacks)"
      ],
      "execution_count": 0,
      "outputs": [
        {
          "output_type": "stream",
          "text": [
            "WARNING:tensorflow:From /usr/local/lib/python3.6/dist-packages/tensorflow_core/python/ops/math_grad.py:1424: where (from tensorflow.python.ops.array_ops) is deprecated and will be removed in a future version.\n",
            "Instructions for updating:\n",
            "Use tf.where in 2.0, which has the same broadcast rule as np.where\n",
            "WARNING:tensorflow:From /usr/local/lib/python3.6/dist-packages/keras/backend/tensorflow_backend.py:1033: The name tf.assign_add is deprecated. Please use tf.compat.v1.assign_add instead.\n",
            "\n",
            "WARNING:tensorflow:From /usr/local/lib/python3.6/dist-packages/keras/backend/tensorflow_backend.py:1020: The name tf.assign is deprecated. Please use tf.compat.v1.assign instead.\n",
            "\n",
            "WARNING:tensorflow:From /usr/local/lib/python3.6/dist-packages/keras/backend/tensorflow_backend.py:3005: The name tf.Session is deprecated. Please use tf.compat.v1.Session instead.\n",
            "\n",
            "Epoch 1/5\n",
            "WARNING:tensorflow:From /usr/local/lib/python3.6/dist-packages/keras/backend/tensorflow_backend.py:190: The name tf.get_default_session is deprecated. Please use tf.compat.v1.get_default_session instead.\n",
            "\n",
            "WARNING:tensorflow:From /usr/local/lib/python3.6/dist-packages/keras/backend/tensorflow_backend.py:197: The name tf.ConfigProto is deprecated. Please use tf.compat.v1.ConfigProto instead.\n",
            "\n",
            "WARNING:tensorflow:From /usr/local/lib/python3.6/dist-packages/keras/backend/tensorflow_backend.py:207: The name tf.global_variables is deprecated. Please use tf.compat.v1.global_variables instead.\n",
            "\n",
            "WARNING:tensorflow:From /usr/local/lib/python3.6/dist-packages/keras/backend/tensorflow_backend.py:216: The name tf.is_variable_initialized is deprecated. Please use tf.compat.v1.is_variable_initialized instead.\n",
            "\n",
            "WARNING:tensorflow:From /usr/local/lib/python3.6/dist-packages/keras/backend/tensorflow_backend.py:223: The name tf.variables_initializer is deprecated. Please use tf.compat.v1.variables_initializer instead.\n",
            "\n",
            "22140/22140 [==============================] - 382s 17ms/step - loss: 3.0060\n",
            "\n",
            "Epoch 00001: loss improved from inf to 3.00599, saving model to model_weights_saved.hdf5\n",
            "Epoch 2/5\n",
            "22140/22140 [==============================] - 378s 17ms/step - loss: 2.9473\n",
            "\n",
            "Epoch 00002: loss improved from 3.00599 to 2.94732, saving model to model_weights_saved.hdf5\n",
            "Epoch 3/5\n",
            "22140/22140 [==============================] - 378s 17ms/step - loss: 2.9415\n",
            "\n",
            "Epoch 00003: loss improved from 2.94732 to 2.94153, saving model to model_weights_saved.hdf5\n",
            "Epoch 4/5\n",
            "22140/22140 [==============================] - 377s 17ms/step - loss: 2.9314\n",
            "\n",
            "Epoch 00004: loss improved from 2.94153 to 2.93140, saving model to model_weights_saved.hdf5\n",
            "Epoch 5/5\n",
            "22140/22140 [==============================] - 376s 17ms/step - loss: 2.9296\n",
            "\n",
            "Epoch 00005: loss improved from 2.93140 to 2.92959, saving model to model_weights_saved.hdf5\n"
          ],
          "name": "stdout"
        },
        {
          "output_type": "execute_result",
          "data": {
            "text/plain": [
              "<keras.callbacks.History at 0x7fde6a9918d0>"
            ]
          },
          "metadata": {
            "tags": []
          },
          "execution_count": 41
        }
      ]
    },
    {
      "cell_type": "code",
      "metadata": {
        "id": "JQyNvdVaP8R3",
        "colab_type": "code",
        "colab": {}
      },
      "source": [
        "filename = \"model_weights_saved.hdf5\"\n",
        "model.load_weights(filename)\n",
        "model.compile(loss='categorical_crossentropy', optimizer='adam')"
      ],
      "execution_count": 0,
      "outputs": []
    },
    {
      "cell_type": "code",
      "metadata": {
        "id": "M2Nwf2fbP_sz",
        "colab_type": "code",
        "colab": {}
      },
      "source": [
        "num_to_char = dict((i, c) for i, c in enumerate(chars))"
      ],
      "execution_count": 0,
      "outputs": []
    },
    {
      "cell_type": "code",
      "metadata": {
        "id": "rDTlSBG_QLvD",
        "colab_type": "code",
        "outputId": "3ef50640-690a-4a0a-fc23-abebb84d3986",
        "colab": {
          "base_uri": "https://localhost:8080/",
          "height": 231
        }
      },
      "source": [
        "for i in range(1000):\n",
        "    x = numpy.reshape(pattern, (1, len(pattern), 1))\n",
        "    x = x / float(vocab_len)\n",
        "    prediction = model.predict(x, verbose=0)\n",
        "    index = numpy.argmax(prediction)\n",
        "    result = num_to_char[index]\n",
        "    seq_in = [num_to_char[value] for value in pattern]\n",
        "\n",
        "    sys.stdout.write(result)\n",
        "\n",
        "    pattern.append(index)\n",
        "    pattern = pattern[1:len(pattern)]"
      ],
      "execution_count": 0,
      "outputs": [
        {
          "output_type": "error",
          "ename": "NameError",
          "evalue": "ignored",
          "traceback": [
            "\u001b[0;31m---------------------------------------------------------------------------\u001b[0m",
            "\u001b[0;31mNameError\u001b[0m                                 Traceback (most recent call last)",
            "\u001b[0;32m<ipython-input-44-a6835acbc3a7>\u001b[0m in \u001b[0;36m<module>\u001b[0;34m()\u001b[0m\n\u001b[1;32m      1\u001b[0m \u001b[0;32mfor\u001b[0m \u001b[0mi\u001b[0m \u001b[0;32min\u001b[0m \u001b[0mrange\u001b[0m\u001b[0;34m(\u001b[0m\u001b[0;36m1000\u001b[0m\u001b[0;34m)\u001b[0m\u001b[0;34m:\u001b[0m\u001b[0;34m\u001b[0m\u001b[0;34m\u001b[0m\u001b[0m\n\u001b[0;32m----> 2\u001b[0;31m     \u001b[0mx\u001b[0m \u001b[0;34m=\u001b[0m \u001b[0mnumpy\u001b[0m\u001b[0;34m.\u001b[0m\u001b[0mreshape\u001b[0m\u001b[0;34m(\u001b[0m\u001b[0mpattern\u001b[0m\u001b[0;34m,\u001b[0m \u001b[0;34m(\u001b[0m\u001b[0;36m1\u001b[0m\u001b[0;34m,\u001b[0m \u001b[0mlen\u001b[0m\u001b[0;34m(\u001b[0m\u001b[0mpattern\u001b[0m\u001b[0;34m)\u001b[0m\u001b[0;34m,\u001b[0m \u001b[0;36m1\u001b[0m\u001b[0;34m)\u001b[0m\u001b[0;34m)\u001b[0m\u001b[0;34m\u001b[0m\u001b[0;34m\u001b[0m\u001b[0m\n\u001b[0m\u001b[1;32m      3\u001b[0m     \u001b[0mx\u001b[0m \u001b[0;34m=\u001b[0m \u001b[0mx\u001b[0m \u001b[0;34m/\u001b[0m \u001b[0mfloat\u001b[0m\u001b[0;34m(\u001b[0m\u001b[0mvocab_len\u001b[0m\u001b[0;34m)\u001b[0m\u001b[0;34m\u001b[0m\u001b[0;34m\u001b[0m\u001b[0m\n\u001b[1;32m      4\u001b[0m     \u001b[0mprediction\u001b[0m \u001b[0;34m=\u001b[0m \u001b[0mmodel\u001b[0m\u001b[0;34m.\u001b[0m\u001b[0mpredict\u001b[0m\u001b[0;34m(\u001b[0m\u001b[0mx\u001b[0m\u001b[0;34m,\u001b[0m \u001b[0mverbose\u001b[0m\u001b[0;34m=\u001b[0m\u001b[0;36m0\u001b[0m\u001b[0;34m)\u001b[0m\u001b[0;34m\u001b[0m\u001b[0;34m\u001b[0m\u001b[0m\n\u001b[1;32m      5\u001b[0m     \u001b[0mindex\u001b[0m \u001b[0;34m=\u001b[0m \u001b[0mnumpy\u001b[0m\u001b[0;34m.\u001b[0m\u001b[0margmax\u001b[0m\u001b[0;34m(\u001b[0m\u001b[0mprediction\u001b[0m\u001b[0;34m)\u001b[0m\u001b[0;34m\u001b[0m\u001b[0;34m\u001b[0m\u001b[0m\n",
            "\u001b[0;31mNameError\u001b[0m: name 'pattern' is not defined"
          ]
        }
      ]
    },
    {
      "cell_type": "code",
      "metadata": {
        "id": "yIy4S8p8QCfr",
        "colab_type": "code",
        "outputId": "729a6158-c3f0-414b-98c2-85a5cda0cbdb",
        "colab": {
          "base_uri": "https://localhost:8080/",
          "height": 51
        }
      },
      "source": [
        "start = numpy.random.randint(0, len(x_data) - 1)\n",
        "pattern = x_data[start]\n",
        "print(\"Random Seed:\")\n",
        "print(\"\\\"\", ''.join([num_to_char[value] for value in pattern]), \"\\\"\")\n"
      ],
      "execution_count": 0,
      "outputs": [
        {
          "output_type": "stream",
          "text": [
            "Random Seed:\n",
            "\" favourites contact detail remove contact favourites list remove contact personal tab check incoming  \"\n"
          ],
          "name": "stdout"
        }
      ]
    },
    {
      "cell_type": "markdown",
      "metadata": {
        "id": "9n7XmsoN8adA",
        "colab_type": "text"
      },
      "source": [
        "**Epoch değeri 4 iken üretilen test senaryosu: ( loss değeri 2 den büyüktü)**\n",
        "\n",
        "\"all cellular data make audio call contact check call options call back cellular data make audio call\"italicized text\n"
      ]
    },
    {
      "cell_type": "markdown",
      "metadata": {
        "id": "wFjLUBHTswdl",
        "colab_type": "text"
      },
      "source": [
        "**Epoch değeri 20 iken üretilen test senaryosu: (loss değeri 1'dir)**\n",
        "\n",
        "\"ssfully new im seen successfully send collaboration link contact send message contact make audio cal\"\n",
        "\n",
        "\"d active call verify app installed device lock type verify user returns client login screen logout v\"\n",
        "\n",
        "\" t connection wifi make video call hold unhold user moh assign verify long video call drop around 20  \"\n",
        "\n",
        "\" l using dial pad make call using favourites make call using history make call using global contact m \""
      ]
    },
    {
      "cell_type": "markdown",
      "metadata": {
        "id": "rTKhi5qPtFix",
        "colab_type": "text"
      },
      "source": [
        "**Epoch değeri 50 iken üretilen senaryolar (loss değeri 0 a yakın):**\n",
        "\n",
        "\n",
        "\n",
        "\n",
        "\"check external providers check kernel versions upgrading lab rollback lab check upgrade sciript mes \"\n",
        "\n",
        "\"acts menu displayed properly smart office app crash incoming call im received verify sensor worked \"\n",
        "\n",
        "\"via email attachment voicemail service works successfully meetme service works successfully callgrab\"\n",
        "\n",
        "\"successfully verify user able transfer audio call properly audio stream ok blind transfer verify\"\n",
        "\n"
      ]
    }
  ]
}